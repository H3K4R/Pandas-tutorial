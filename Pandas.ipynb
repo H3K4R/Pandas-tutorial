{
 "cells": [
  {
   "cell_type": "code",
   "execution_count": 1,
   "metadata": {},
   "outputs": [],
   "source": [
    "import numpy as np\n",
    "import pandas as pd"
   ]
  },
  {
   "cell_type": "code",
   "execution_count": 2,
   "metadata": {},
   "outputs": [],
   "source": [
    "dict1 = {\n",
    "    \"name\":['sonu', 'rohan', 'rock', 'hist'],\n",
    "    \"marks\":[90, 34, 24, 17],\n",
    "    \"city\":['rampur', 'kolkata', 'chennai', 'mumbai']\n",
    "}"
   ]
  },
  {
   "cell_type": "code",
   "execution_count": 4,
   "metadata": {},
   "outputs": [],
   "source": [
    "df = pd.DataFrame(dict1)"
   ]
  },
  {
   "cell_type": "code",
   "execution_count": 5,
   "metadata": {},
   "outputs": [
    {
     "data": {
      "text/html": [
       "<div>\n",
       "<style scoped>\n",
       "    .dataframe tbody tr th:only-of-type {\n",
       "        vertical-align: middle;\n",
       "    }\n",
       "\n",
       "    .dataframe tbody tr th {\n",
       "        vertical-align: top;\n",
       "    }\n",
       "\n",
       "    .dataframe thead th {\n",
       "        text-align: right;\n",
       "    }\n",
       "</style>\n",
       "<table border=\"1\" class=\"dataframe\">\n",
       "  <thead>\n",
       "    <tr style=\"text-align: right;\">\n",
       "      <th></th>\n",
       "      <th>name</th>\n",
       "      <th>marks</th>\n",
       "      <th>city</th>\n",
       "    </tr>\n",
       "  </thead>\n",
       "  <tbody>\n",
       "    <tr>\n",
       "      <th>0</th>\n",
       "      <td>sonu</td>\n",
       "      <td>90</td>\n",
       "      <td>rampur</td>\n",
       "    </tr>\n",
       "    <tr>\n",
       "      <th>1</th>\n",
       "      <td>rohan</td>\n",
       "      <td>34</td>\n",
       "      <td>kolkata</td>\n",
       "    </tr>\n",
       "    <tr>\n",
       "      <th>2</th>\n",
       "      <td>rock</td>\n",
       "      <td>24</td>\n",
       "      <td>chennai</td>\n",
       "    </tr>\n",
       "    <tr>\n",
       "      <th>3</th>\n",
       "      <td>hist</td>\n",
       "      <td>17</td>\n",
       "      <td>mumbai</td>\n",
       "    </tr>\n",
       "  </tbody>\n",
       "</table>\n",
       "</div>"
      ],
      "text/plain": [
       "    name  marks     city\n",
       "0   sonu     90   rampur\n",
       "1  rohan     34  kolkata\n",
       "2   rock     24  chennai\n",
       "3   hist     17   mumbai"
      ]
     },
     "execution_count": 5,
     "metadata": {},
     "output_type": "execute_result"
    }
   ],
   "source": [
    "df"
   ]
  },
  {
   "cell_type": "code",
   "execution_count": 6,
   "metadata": {},
   "outputs": [],
   "source": [
    "df.to_csv('friends.csv')"
   ]
  },
  {
   "cell_type": "code",
   "execution_count": 8,
   "metadata": {},
   "outputs": [],
   "source": [
    "df.to_csv('friends_index_false.csv', index=False)"
   ]
  },
  {
   "cell_type": "code",
   "execution_count": 9,
   "metadata": {},
   "outputs": [
    {
     "data": {
      "text/html": [
       "<div>\n",
       "<style scoped>\n",
       "    .dataframe tbody tr th:only-of-type {\n",
       "        vertical-align: middle;\n",
       "    }\n",
       "\n",
       "    .dataframe tbody tr th {\n",
       "        vertical-align: top;\n",
       "    }\n",
       "\n",
       "    .dataframe thead th {\n",
       "        text-align: right;\n",
       "    }\n",
       "</style>\n",
       "<table border=\"1\" class=\"dataframe\">\n",
       "  <thead>\n",
       "    <tr style=\"text-align: right;\">\n",
       "      <th></th>\n",
       "      <th>name</th>\n",
       "      <th>marks</th>\n",
       "      <th>city</th>\n",
       "    </tr>\n",
       "  </thead>\n",
       "  <tbody>\n",
       "    <tr>\n",
       "      <th>0</th>\n",
       "      <td>sonu</td>\n",
       "      <td>90</td>\n",
       "      <td>rampur</td>\n",
       "    </tr>\n",
       "    <tr>\n",
       "      <th>1</th>\n",
       "      <td>rohan</td>\n",
       "      <td>34</td>\n",
       "      <td>kolkata</td>\n",
       "    </tr>\n",
       "  </tbody>\n",
       "</table>\n",
       "</div>"
      ],
      "text/plain": [
       "    name  marks     city\n",
       "0   sonu     90   rampur\n",
       "1  rohan     34  kolkata"
      ]
     },
     "execution_count": 9,
     "metadata": {},
     "output_type": "execute_result"
    }
   ],
   "source": [
    "df.head(2)"
   ]
  },
  {
   "cell_type": "code",
   "execution_count": 10,
   "metadata": {},
   "outputs": [
    {
     "data": {
      "text/html": [
       "<div>\n",
       "<style scoped>\n",
       "    .dataframe tbody tr th:only-of-type {\n",
       "        vertical-align: middle;\n",
       "    }\n",
       "\n",
       "    .dataframe tbody tr th {\n",
       "        vertical-align: top;\n",
       "    }\n",
       "\n",
       "    .dataframe thead th {\n",
       "        text-align: right;\n",
       "    }\n",
       "</style>\n",
       "<table border=\"1\" class=\"dataframe\">\n",
       "  <thead>\n",
       "    <tr style=\"text-align: right;\">\n",
       "      <th></th>\n",
       "      <th>name</th>\n",
       "      <th>marks</th>\n",
       "      <th>city</th>\n",
       "    </tr>\n",
       "  </thead>\n",
       "  <tbody>\n",
       "    <tr>\n",
       "      <th>2</th>\n",
       "      <td>rock</td>\n",
       "      <td>24</td>\n",
       "      <td>chennai</td>\n",
       "    </tr>\n",
       "    <tr>\n",
       "      <th>3</th>\n",
       "      <td>hist</td>\n",
       "      <td>17</td>\n",
       "      <td>mumbai</td>\n",
       "    </tr>\n",
       "  </tbody>\n",
       "</table>\n",
       "</div>"
      ],
      "text/plain": [
       "   name  marks     city\n",
       "2  rock     24  chennai\n",
       "3  hist     17   mumbai"
      ]
     },
     "execution_count": 10,
     "metadata": {},
     "output_type": "execute_result"
    }
   ],
   "source": [
    "df.tail(2)"
   ]
  },
  {
   "cell_type": "code",
   "execution_count": 11,
   "metadata": {},
   "outputs": [
    {
     "data": {
      "text/html": [
       "<div>\n",
       "<style scoped>\n",
       "    .dataframe tbody tr th:only-of-type {\n",
       "        vertical-align: middle;\n",
       "    }\n",
       "\n",
       "    .dataframe tbody tr th {\n",
       "        vertical-align: top;\n",
       "    }\n",
       "\n",
       "    .dataframe thead th {\n",
       "        text-align: right;\n",
       "    }\n",
       "</style>\n",
       "<table border=\"1\" class=\"dataframe\">\n",
       "  <thead>\n",
       "    <tr style=\"text-align: right;\">\n",
       "      <th></th>\n",
       "      <th>marks</th>\n",
       "    </tr>\n",
       "  </thead>\n",
       "  <tbody>\n",
       "    <tr>\n",
       "      <th>count</th>\n",
       "      <td>4.000000</td>\n",
       "    </tr>\n",
       "    <tr>\n",
       "      <th>mean</th>\n",
       "      <td>41.250000</td>\n",
       "    </tr>\n",
       "    <tr>\n",
       "      <th>std</th>\n",
       "      <td>33.240287</td>\n",
       "    </tr>\n",
       "    <tr>\n",
       "      <th>min</th>\n",
       "      <td>17.000000</td>\n",
       "    </tr>\n",
       "    <tr>\n",
       "      <th>25%</th>\n",
       "      <td>22.250000</td>\n",
       "    </tr>\n",
       "    <tr>\n",
       "      <th>50%</th>\n",
       "      <td>29.000000</td>\n",
       "    </tr>\n",
       "    <tr>\n",
       "      <th>75%</th>\n",
       "      <td>48.000000</td>\n",
       "    </tr>\n",
       "    <tr>\n",
       "      <th>max</th>\n",
       "      <td>90.000000</td>\n",
       "    </tr>\n",
       "  </tbody>\n",
       "</table>\n",
       "</div>"
      ],
      "text/plain": [
       "           marks\n",
       "count   4.000000\n",
       "mean   41.250000\n",
       "std    33.240287\n",
       "min    17.000000\n",
       "25%    22.250000\n",
       "50%    29.000000\n",
       "75%    48.000000\n",
       "max    90.000000"
      ]
     },
     "execution_count": 11,
     "metadata": {},
     "output_type": "execute_result"
    }
   ],
   "source": [
    "df.describe()"
   ]
  },
  {
   "cell_type": "code",
   "execution_count": 12,
   "metadata": {},
   "outputs": [
    {
     "data": {
      "text/html": [
       "<div>\n",
       "<style scoped>\n",
       "    .dataframe tbody tr th:only-of-type {\n",
       "        vertical-align: middle;\n",
       "    }\n",
       "\n",
       "    .dataframe tbody tr th {\n",
       "        vertical-align: top;\n",
       "    }\n",
       "\n",
       "    .dataframe thead th {\n",
       "        text-align: right;\n",
       "    }\n",
       "</style>\n",
       "<table border=\"1\" class=\"dataframe\">\n",
       "  <thead>\n",
       "    <tr style=\"text-align: right;\">\n",
       "      <th></th>\n",
       "      <th>name</th>\n",
       "      <th>marks</th>\n",
       "      <th>city</th>\n",
       "    </tr>\n",
       "  </thead>\n",
       "  <tbody>\n",
       "    <tr>\n",
       "      <th>0</th>\n",
       "      <td>sonu</td>\n",
       "      <td>90</td>\n",
       "      <td>rampur</td>\n",
       "    </tr>\n",
       "    <tr>\n",
       "      <th>1</th>\n",
       "      <td>rohan</td>\n",
       "      <td>34</td>\n",
       "      <td>kolkata</td>\n",
       "    </tr>\n",
       "    <tr>\n",
       "      <th>2</th>\n",
       "      <td>rock</td>\n",
       "      <td>24</td>\n",
       "      <td>chennai</td>\n",
       "    </tr>\n",
       "    <tr>\n",
       "      <th>3</th>\n",
       "      <td>hist</td>\n",
       "      <td>17</td>\n",
       "      <td>mumbai</td>\n",
       "    </tr>\n",
       "  </tbody>\n",
       "</table>\n",
       "</div>"
      ],
      "text/plain": [
       "    name  marks     city\n",
       "0   sonu     90   rampur\n",
       "1  rohan     34  kolkata\n",
       "2   rock     24  chennai\n",
       "3   hist     17   mumbai"
      ]
     },
     "execution_count": 12,
     "metadata": {},
     "output_type": "execute_result"
    }
   ],
   "source": [
    "pd.read_csv('friends.csv')"
   ]
  },
  {
   "cell_type": "code",
   "execution_count": 13,
   "metadata": {},
   "outputs": [
    {
     "data": {
      "text/html": [
       "<div>\n",
       "<style scoped>\n",
       "    .dataframe tbody tr th:only-of-type {\n",
       "        vertical-align: middle;\n",
       "    }\n",
       "\n",
       "    .dataframe tbody tr th {\n",
       "        vertical-align: top;\n",
       "    }\n",
       "\n",
       "    .dataframe thead th {\n",
       "        text-align: right;\n",
       "    }\n",
       "</style>\n",
       "<table border=\"1\" class=\"dataframe\">\n",
       "  <thead>\n",
       "    <tr style=\"text-align: right;\">\n",
       "      <th></th>\n",
       "      <th>name</th>\n",
       "      <th>marks</th>\n",
       "      <th>city</th>\n",
       "    </tr>\n",
       "  </thead>\n",
       "  <tbody>\n",
       "    <tr>\n",
       "      <th>0</th>\n",
       "      <td>sonu</td>\n",
       "      <td>90</td>\n",
       "      <td>rampur</td>\n",
       "    </tr>\n",
       "    <tr>\n",
       "      <th>1</th>\n",
       "      <td>rohan</td>\n",
       "      <td>34</td>\n",
       "      <td>kolkata</td>\n",
       "    </tr>\n",
       "    <tr>\n",
       "      <th>2</th>\n",
       "      <td>rock</td>\n",
       "      <td>24</td>\n",
       "      <td>chennai</td>\n",
       "    </tr>\n",
       "    <tr>\n",
       "      <th>3</th>\n",
       "      <td>hist</td>\n",
       "      <td>17</td>\n",
       "      <td>mumbai</td>\n",
       "    </tr>\n",
       "  </tbody>\n",
       "</table>\n",
       "</div>"
      ],
      "text/plain": [
       "    name  marks     city\n",
       "0   sonu     90   rampur\n",
       "1  rohan     34  kolkata\n",
       "2   rock     24  chennai\n",
       "3   hist     17   mumbai"
      ]
     },
     "execution_count": 13,
     "metadata": {},
     "output_type": "execute_result"
    }
   ],
   "source": [
    "df"
   ]
  },
  {
   "cell_type": "code",
   "execution_count": 14,
   "metadata": {},
   "outputs": [
    {
     "data": {
      "text/plain": [
       "0     sonu\n",
       "1    rohan\n",
       "2     rock\n",
       "3     hist\n",
       "Name: name, dtype: object"
      ]
     },
     "execution_count": 14,
     "metadata": {},
     "output_type": "execute_result"
    }
   ],
   "source": [
    "df['name']"
   ]
  },
  {
   "cell_type": "code",
   "execution_count": 15,
   "metadata": {},
   "outputs": [
    {
     "data": {
      "text/plain": [
       "0    90\n",
       "1    34\n",
       "2    24\n",
       "3    17\n",
       "Name: marks, dtype: int64"
      ]
     },
     "execution_count": 15,
     "metadata": {},
     "output_type": "execute_result"
    }
   ],
   "source": [
    "df['marks']"
   ]
  },
  {
   "cell_type": "code",
   "execution_count": 16,
   "metadata": {},
   "outputs": [
    {
     "data": {
      "text/plain": [
       "90"
      ]
     },
     "execution_count": 16,
     "metadata": {},
     "output_type": "execute_result"
    }
   ],
   "source": [
    "df['marks'][0]"
   ]
  },
  {
   "cell_type": "code",
   "execution_count": 17,
   "metadata": {},
   "outputs": [
    {
     "name": "stderr",
     "output_type": "stream",
     "text": [
      "<ipython-input-17-a49369968c08>:1: SettingWithCopyWarning: \n",
      "A value is trying to be set on a copy of a slice from a DataFrame\n",
      "\n",
      "See the caveats in the documentation: https://pandas.pydata.org/pandas-docs/stable/user_guide/indexing.html#returning-a-view-versus-a-copy\n",
      "  df['city'][0]= 'kolkata'\n"
     ]
    }
   ],
   "source": [
    "df['city'][0]= 'kolkata'"
   ]
  },
  {
   "cell_type": "code",
   "execution_count": 18,
   "metadata": {},
   "outputs": [
    {
     "data": {
      "text/html": [
       "<div>\n",
       "<style scoped>\n",
       "    .dataframe tbody tr th:only-of-type {\n",
       "        vertical-align: middle;\n",
       "    }\n",
       "\n",
       "    .dataframe tbody tr th {\n",
       "        vertical-align: top;\n",
       "    }\n",
       "\n",
       "    .dataframe thead th {\n",
       "        text-align: right;\n",
       "    }\n",
       "</style>\n",
       "<table border=\"1\" class=\"dataframe\">\n",
       "  <thead>\n",
       "    <tr style=\"text-align: right;\">\n",
       "      <th></th>\n",
       "      <th>name</th>\n",
       "      <th>marks</th>\n",
       "      <th>city</th>\n",
       "    </tr>\n",
       "  </thead>\n",
       "  <tbody>\n",
       "    <tr>\n",
       "      <th>0</th>\n",
       "      <td>sonu</td>\n",
       "      <td>90</td>\n",
       "      <td>kolkata</td>\n",
       "    </tr>\n",
       "    <tr>\n",
       "      <th>1</th>\n",
       "      <td>rohan</td>\n",
       "      <td>34</td>\n",
       "      <td>kolkata</td>\n",
       "    </tr>\n",
       "    <tr>\n",
       "      <th>2</th>\n",
       "      <td>rock</td>\n",
       "      <td>24</td>\n",
       "      <td>chennai</td>\n",
       "    </tr>\n",
       "    <tr>\n",
       "      <th>3</th>\n",
       "      <td>hist</td>\n",
       "      <td>17</td>\n",
       "      <td>mumbai</td>\n",
       "    </tr>\n",
       "  </tbody>\n",
       "</table>\n",
       "</div>"
      ],
      "text/plain": [
       "    name  marks     city\n",
       "0   sonu     90  kolkata\n",
       "1  rohan     34  kolkata\n",
       "2   rock     24  chennai\n",
       "3   hist     17   mumbai"
      ]
     },
     "execution_count": 18,
     "metadata": {},
     "output_type": "execute_result"
    }
   ],
   "source": [
    "df"
   ]
  },
  {
   "cell_type": "code",
   "execution_count": 19,
   "metadata": {},
   "outputs": [],
   "source": [
    "df.index = ['first', 'second', 'third', 'fourth']"
   ]
  },
  {
   "cell_type": "code",
   "execution_count": 20,
   "metadata": {},
   "outputs": [
    {
     "data": {
      "text/html": [
       "<div>\n",
       "<style scoped>\n",
       "    .dataframe tbody tr th:only-of-type {\n",
       "        vertical-align: middle;\n",
       "    }\n",
       "\n",
       "    .dataframe tbody tr th {\n",
       "        vertical-align: top;\n",
       "    }\n",
       "\n",
       "    .dataframe thead th {\n",
       "        text-align: right;\n",
       "    }\n",
       "</style>\n",
       "<table border=\"1\" class=\"dataframe\">\n",
       "  <thead>\n",
       "    <tr style=\"text-align: right;\">\n",
       "      <th></th>\n",
       "      <th>name</th>\n",
       "      <th>marks</th>\n",
       "      <th>city</th>\n",
       "    </tr>\n",
       "  </thead>\n",
       "  <tbody>\n",
       "    <tr>\n",
       "      <th>first</th>\n",
       "      <td>sonu</td>\n",
       "      <td>90</td>\n",
       "      <td>kolkata</td>\n",
       "    </tr>\n",
       "    <tr>\n",
       "      <th>second</th>\n",
       "      <td>rohan</td>\n",
       "      <td>34</td>\n",
       "      <td>kolkata</td>\n",
       "    </tr>\n",
       "    <tr>\n",
       "      <th>third</th>\n",
       "      <td>rock</td>\n",
       "      <td>24</td>\n",
       "      <td>chennai</td>\n",
       "    </tr>\n",
       "    <tr>\n",
       "      <th>fourth</th>\n",
       "      <td>hist</td>\n",
       "      <td>17</td>\n",
       "      <td>mumbai</td>\n",
       "    </tr>\n",
       "  </tbody>\n",
       "</table>\n",
       "</div>"
      ],
      "text/plain": [
       "         name  marks     city\n",
       "first    sonu     90  kolkata\n",
       "second  rohan     34  kolkata\n",
       "third    rock     24  chennai\n",
       "fourth   hist     17   mumbai"
      ]
     },
     "execution_count": 20,
     "metadata": {},
     "output_type": "execute_result"
    }
   ],
   "source": [
    "df\n"
   ]
  },
  {
   "cell_type": "markdown",
   "metadata": {},
   "source": [
    "# Series"
   ]
  },
  {
   "cell_type": "code",
   "execution_count": 23,
   "metadata": {},
   "outputs": [],
   "source": [
    "ser = pd.Series(np.random.rand(34))"
   ]
  },
  {
   "cell_type": "code",
   "execution_count": 24,
   "metadata": {},
   "outputs": [
    {
     "data": {
      "text/plain": [
       "0     0.614684\n",
       "1     0.393781\n",
       "2     0.088632\n",
       "3     0.304881\n",
       "4     0.719522\n",
       "5     0.298760\n",
       "6     0.267440\n",
       "7     0.472412\n",
       "8     0.334238\n",
       "9     0.581092\n",
       "10    0.494560\n",
       "11    0.484328\n",
       "12    0.447399\n",
       "13    0.513136\n",
       "14    0.803242\n",
       "15    0.323539\n",
       "16    0.562802\n",
       "17    0.573276\n",
       "18    0.271726\n",
       "19    0.903416\n",
       "20    0.349117\n",
       "21    0.125611\n",
       "22    0.585412\n",
       "23    0.200173\n",
       "24    0.377337\n",
       "25    0.511342\n",
       "26    0.434531\n",
       "27    0.312821\n",
       "28    0.292541\n",
       "29    0.586210\n",
       "30    0.210208\n",
       "31    0.782530\n",
       "32    0.579221\n",
       "33    0.317561\n",
       "dtype: float64"
      ]
     },
     "execution_count": 24,
     "metadata": {},
     "output_type": "execute_result"
    }
   ],
   "source": [
    "ser"
   ]
  },
  {
   "cell_type": "code",
   "execution_count": 25,
   "metadata": {},
   "outputs": [
    {
     "data": {
      "text/plain": [
       "pandas.core.series.Series"
      ]
     },
     "execution_count": 25,
     "metadata": {},
     "output_type": "execute_result"
    }
   ],
   "source": [
    "type(ser)"
   ]
  },
  {
   "cell_type": "code",
   "execution_count": 26,
   "metadata": {},
   "outputs": [],
   "source": [
    "newdf = pd.DataFrame(np.random.rand(334, 5), index=np.arange(334))"
   ]
  },
  {
   "cell_type": "code",
   "execution_count": 27,
   "metadata": {},
   "outputs": [
    {
     "data": {
      "text/html": [
       "<div>\n",
       "<style scoped>\n",
       "    .dataframe tbody tr th:only-of-type {\n",
       "        vertical-align: middle;\n",
       "    }\n",
       "\n",
       "    .dataframe tbody tr th {\n",
       "        vertical-align: top;\n",
       "    }\n",
       "\n",
       "    .dataframe thead th {\n",
       "        text-align: right;\n",
       "    }\n",
       "</style>\n",
       "<table border=\"1\" class=\"dataframe\">\n",
       "  <thead>\n",
       "    <tr style=\"text-align: right;\">\n",
       "      <th></th>\n",
       "      <th>0</th>\n",
       "      <th>1</th>\n",
       "      <th>2</th>\n",
       "      <th>3</th>\n",
       "      <th>4</th>\n",
       "    </tr>\n",
       "  </thead>\n",
       "  <tbody>\n",
       "    <tr>\n",
       "      <th>0</th>\n",
       "      <td>0.331046</td>\n",
       "      <td>0.288230</td>\n",
       "      <td>0.618810</td>\n",
       "      <td>0.610473</td>\n",
       "      <td>0.630400</td>\n",
       "    </tr>\n",
       "    <tr>\n",
       "      <th>1</th>\n",
       "      <td>0.549615</td>\n",
       "      <td>0.551230</td>\n",
       "      <td>0.809850</td>\n",
       "      <td>0.937590</td>\n",
       "      <td>0.590516</td>\n",
       "    </tr>\n",
       "    <tr>\n",
       "      <th>2</th>\n",
       "      <td>0.320179</td>\n",
       "      <td>0.604773</td>\n",
       "      <td>0.528880</td>\n",
       "      <td>0.532698</td>\n",
       "      <td>0.064267</td>\n",
       "    </tr>\n",
       "    <tr>\n",
       "      <th>3</th>\n",
       "      <td>0.906357</td>\n",
       "      <td>0.073302</td>\n",
       "      <td>0.614587</td>\n",
       "      <td>0.484070</td>\n",
       "      <td>0.360308</td>\n",
       "    </tr>\n",
       "    <tr>\n",
       "      <th>4</th>\n",
       "      <td>0.180382</td>\n",
       "      <td>0.086987</td>\n",
       "      <td>0.208070</td>\n",
       "      <td>0.435624</td>\n",
       "      <td>0.720327</td>\n",
       "    </tr>\n",
       "  </tbody>\n",
       "</table>\n",
       "</div>"
      ],
      "text/plain": [
       "          0         1         2         3         4\n",
       "0  0.331046  0.288230  0.618810  0.610473  0.630400\n",
       "1  0.549615  0.551230  0.809850  0.937590  0.590516\n",
       "2  0.320179  0.604773  0.528880  0.532698  0.064267\n",
       "3  0.906357  0.073302  0.614587  0.484070  0.360308\n",
       "4  0.180382  0.086987  0.208070  0.435624  0.720327"
      ]
     },
     "execution_count": 27,
     "metadata": {},
     "output_type": "execute_result"
    }
   ],
   "source": [
    "newdf.head()"
   ]
  },
  {
   "cell_type": "code",
   "execution_count": 28,
   "metadata": {},
   "outputs": [
    {
     "data": {
      "text/html": [
       "<div>\n",
       "<style scoped>\n",
       "    .dataframe tbody tr th:only-of-type {\n",
       "        vertical-align: middle;\n",
       "    }\n",
       "\n",
       "    .dataframe tbody tr th {\n",
       "        vertical-align: top;\n",
       "    }\n",
       "\n",
       "    .dataframe thead th {\n",
       "        text-align: right;\n",
       "    }\n",
       "</style>\n",
       "<table border=\"1\" class=\"dataframe\">\n",
       "  <thead>\n",
       "    <tr style=\"text-align: right;\">\n",
       "      <th></th>\n",
       "      <th>0</th>\n",
       "      <th>1</th>\n",
       "      <th>2</th>\n",
       "      <th>3</th>\n",
       "      <th>4</th>\n",
       "    </tr>\n",
       "  </thead>\n",
       "  <tbody>\n",
       "    <tr>\n",
       "      <th>0</th>\n",
       "      <td>0.331046</td>\n",
       "      <td>0.288230</td>\n",
       "      <td>0.618810</td>\n",
       "      <td>0.610473</td>\n",
       "      <td>0.630400</td>\n",
       "    </tr>\n",
       "    <tr>\n",
       "      <th>1</th>\n",
       "      <td>0.549615</td>\n",
       "      <td>0.551230</td>\n",
       "      <td>0.809850</td>\n",
       "      <td>0.937590</td>\n",
       "      <td>0.590516</td>\n",
       "    </tr>\n",
       "    <tr>\n",
       "      <th>2</th>\n",
       "      <td>0.320179</td>\n",
       "      <td>0.604773</td>\n",
       "      <td>0.528880</td>\n",
       "      <td>0.532698</td>\n",
       "      <td>0.064267</td>\n",
       "    </tr>\n",
       "    <tr>\n",
       "      <th>3</th>\n",
       "      <td>0.906357</td>\n",
       "      <td>0.073302</td>\n",
       "      <td>0.614587</td>\n",
       "      <td>0.484070</td>\n",
       "      <td>0.360308</td>\n",
       "    </tr>\n",
       "    <tr>\n",
       "      <th>4</th>\n",
       "      <td>0.180382</td>\n",
       "      <td>0.086987</td>\n",
       "      <td>0.208070</td>\n",
       "      <td>0.435624</td>\n",
       "      <td>0.720327</td>\n",
       "    </tr>\n",
       "    <tr>\n",
       "      <th>...</th>\n",
       "      <td>...</td>\n",
       "      <td>...</td>\n",
       "      <td>...</td>\n",
       "      <td>...</td>\n",
       "      <td>...</td>\n",
       "    </tr>\n",
       "    <tr>\n",
       "      <th>329</th>\n",
       "      <td>0.815290</td>\n",
       "      <td>0.292655</td>\n",
       "      <td>0.380535</td>\n",
       "      <td>0.276991</td>\n",
       "      <td>0.341599</td>\n",
       "    </tr>\n",
       "    <tr>\n",
       "      <th>330</th>\n",
       "      <td>0.927582</td>\n",
       "      <td>0.786547</td>\n",
       "      <td>0.114443</td>\n",
       "      <td>0.440093</td>\n",
       "      <td>0.398865</td>\n",
       "    </tr>\n",
       "    <tr>\n",
       "      <th>331</th>\n",
       "      <td>0.718309</td>\n",
       "      <td>0.937652</td>\n",
       "      <td>0.801597</td>\n",
       "      <td>0.809722</td>\n",
       "      <td>0.409000</td>\n",
       "    </tr>\n",
       "    <tr>\n",
       "      <th>332</th>\n",
       "      <td>0.639153</td>\n",
       "      <td>0.447517</td>\n",
       "      <td>0.589736</td>\n",
       "      <td>0.435258</td>\n",
       "      <td>0.074790</td>\n",
       "    </tr>\n",
       "    <tr>\n",
       "      <th>333</th>\n",
       "      <td>0.877034</td>\n",
       "      <td>0.079063</td>\n",
       "      <td>0.386072</td>\n",
       "      <td>0.296996</td>\n",
       "      <td>0.373732</td>\n",
       "    </tr>\n",
       "  </tbody>\n",
       "</table>\n",
       "<p>334 rows × 5 columns</p>\n",
       "</div>"
      ],
      "text/plain": [
       "            0         1         2         3         4\n",
       "0    0.331046  0.288230  0.618810  0.610473  0.630400\n",
       "1    0.549615  0.551230  0.809850  0.937590  0.590516\n",
       "2    0.320179  0.604773  0.528880  0.532698  0.064267\n",
       "3    0.906357  0.073302  0.614587  0.484070  0.360308\n",
       "4    0.180382  0.086987  0.208070  0.435624  0.720327\n",
       "..        ...       ...       ...       ...       ...\n",
       "329  0.815290  0.292655  0.380535  0.276991  0.341599\n",
       "330  0.927582  0.786547  0.114443  0.440093  0.398865\n",
       "331  0.718309  0.937652  0.801597  0.809722  0.409000\n",
       "332  0.639153  0.447517  0.589736  0.435258  0.074790\n",
       "333  0.877034  0.079063  0.386072  0.296996  0.373732\n",
       "\n",
       "[334 rows x 5 columns]"
      ]
     },
     "execution_count": 28,
     "metadata": {},
     "output_type": "execute_result"
    }
   ],
   "source": [
    "newdf"
   ]
  },
  {
   "cell_type": "code",
   "execution_count": 29,
   "metadata": {},
   "outputs": [
    {
     "data": {
      "text/plain": [
       "pandas.core.frame.DataFrame"
      ]
     },
     "execution_count": 29,
     "metadata": {},
     "output_type": "execute_result"
    }
   ],
   "source": [
    "type(newdf)"
   ]
  },
  {
   "cell_type": "code",
   "execution_count": 30,
   "metadata": {},
   "outputs": [
    {
     "data": {
      "text/html": [
       "<div>\n",
       "<style scoped>\n",
       "    .dataframe tbody tr th:only-of-type {\n",
       "        vertical-align: middle;\n",
       "    }\n",
       "\n",
       "    .dataframe tbody tr th {\n",
       "        vertical-align: top;\n",
       "    }\n",
       "\n",
       "    .dataframe thead th {\n",
       "        text-align: right;\n",
       "    }\n",
       "</style>\n",
       "<table border=\"1\" class=\"dataframe\">\n",
       "  <thead>\n",
       "    <tr style=\"text-align: right;\">\n",
       "      <th></th>\n",
       "      <th>0</th>\n",
       "      <th>1</th>\n",
       "      <th>2</th>\n",
       "      <th>3</th>\n",
       "      <th>4</th>\n",
       "    </tr>\n",
       "  </thead>\n",
       "  <tbody>\n",
       "    <tr>\n",
       "      <th>count</th>\n",
       "      <td>334.000000</td>\n",
       "      <td>334.000000</td>\n",
       "      <td>334.000000</td>\n",
       "      <td>334.000000</td>\n",
       "      <td>334.000000</td>\n",
       "    </tr>\n",
       "    <tr>\n",
       "      <th>mean</th>\n",
       "      <td>0.504115</td>\n",
       "      <td>0.504911</td>\n",
       "      <td>0.481698</td>\n",
       "      <td>0.519647</td>\n",
       "      <td>0.501808</td>\n",
       "    </tr>\n",
       "    <tr>\n",
       "      <th>std</th>\n",
       "      <td>0.285631</td>\n",
       "      <td>0.287753</td>\n",
       "      <td>0.282847</td>\n",
       "      <td>0.293183</td>\n",
       "      <td>0.282549</td>\n",
       "    </tr>\n",
       "    <tr>\n",
       "      <th>min</th>\n",
       "      <td>0.001069</td>\n",
       "      <td>0.005027</td>\n",
       "      <td>0.003381</td>\n",
       "      <td>0.002824</td>\n",
       "      <td>0.008435</td>\n",
       "    </tr>\n",
       "    <tr>\n",
       "      <th>25%</th>\n",
       "      <td>0.271793</td>\n",
       "      <td>0.262927</td>\n",
       "      <td>0.263745</td>\n",
       "      <td>0.289609</td>\n",
       "      <td>0.262717</td>\n",
       "    </tr>\n",
       "    <tr>\n",
       "      <th>50%</th>\n",
       "      <td>0.496383</td>\n",
       "      <td>0.503526</td>\n",
       "      <td>0.461118</td>\n",
       "      <td>0.510688</td>\n",
       "      <td>0.493050</td>\n",
       "    </tr>\n",
       "    <tr>\n",
       "      <th>75%</th>\n",
       "      <td>0.743805</td>\n",
       "      <td>0.755363</td>\n",
       "      <td>0.714024</td>\n",
       "      <td>0.769471</td>\n",
       "      <td>0.730016</td>\n",
       "    </tr>\n",
       "    <tr>\n",
       "      <th>max</th>\n",
       "      <td>0.994229</td>\n",
       "      <td>0.998471</td>\n",
       "      <td>0.998139</td>\n",
       "      <td>0.998503</td>\n",
       "      <td>0.999019</td>\n",
       "    </tr>\n",
       "  </tbody>\n",
       "</table>\n",
       "</div>"
      ],
      "text/plain": [
       "                0           1           2           3           4\n",
       "count  334.000000  334.000000  334.000000  334.000000  334.000000\n",
       "mean     0.504115    0.504911    0.481698    0.519647    0.501808\n",
       "std      0.285631    0.287753    0.282847    0.293183    0.282549\n",
       "min      0.001069    0.005027    0.003381    0.002824    0.008435\n",
       "25%      0.271793    0.262927    0.263745    0.289609    0.262717\n",
       "50%      0.496383    0.503526    0.461118    0.510688    0.493050\n",
       "75%      0.743805    0.755363    0.714024    0.769471    0.730016\n",
       "max      0.994229    0.998471    0.998139    0.998503    0.999019"
      ]
     },
     "execution_count": 30,
     "metadata": {},
     "output_type": "execute_result"
    }
   ],
   "source": [
    "newdf.describe()"
   ]
  },
  {
   "cell_type": "code",
   "execution_count": 32,
   "metadata": {},
   "outputs": [
    {
     "data": {
      "text/plain": [
       "0    float64\n",
       "1    float64\n",
       "2    float64\n",
       "3    float64\n",
       "4    float64\n",
       "dtype: object"
      ]
     },
     "execution_count": 32,
     "metadata": {},
     "output_type": "execute_result"
    }
   ],
   "source": [
    "newdf.dtypes"
   ]
  },
  {
   "cell_type": "code",
   "execution_count": 33,
   "metadata": {},
   "outputs": [],
   "source": [
    "newdf[0][0] = \"Swarnava\""
   ]
  },
  {
   "cell_type": "code",
   "execution_count": 34,
   "metadata": {},
   "outputs": [
    {
     "data": {
      "text/plain": [
       "0     object\n",
       "1    float64\n",
       "2    float64\n",
       "3    float64\n",
       "4    float64\n",
       "dtype: object"
      ]
     },
     "execution_count": 34,
     "metadata": {},
     "output_type": "execute_result"
    }
   ],
   "source": [
    "newdf.dtypes"
   ]
  },
  {
   "cell_type": "code",
   "execution_count": 35,
   "metadata": {},
   "outputs": [
    {
     "data": {
      "text/html": [
       "<div>\n",
       "<style scoped>\n",
       "    .dataframe tbody tr th:only-of-type {\n",
       "        vertical-align: middle;\n",
       "    }\n",
       "\n",
       "    .dataframe tbody tr th {\n",
       "        vertical-align: top;\n",
       "    }\n",
       "\n",
       "    .dataframe thead th {\n",
       "        text-align: right;\n",
       "    }\n",
       "</style>\n",
       "<table border=\"1\" class=\"dataframe\">\n",
       "  <thead>\n",
       "    <tr style=\"text-align: right;\">\n",
       "      <th></th>\n",
       "      <th>0</th>\n",
       "      <th>1</th>\n",
       "      <th>2</th>\n",
       "      <th>3</th>\n",
       "      <th>4</th>\n",
       "    </tr>\n",
       "  </thead>\n",
       "  <tbody>\n",
       "    <tr>\n",
       "      <th>0</th>\n",
       "      <td>Swarnava</td>\n",
       "      <td>0.288230</td>\n",
       "      <td>0.618810</td>\n",
       "      <td>0.610473</td>\n",
       "      <td>0.630400</td>\n",
       "    </tr>\n",
       "    <tr>\n",
       "      <th>1</th>\n",
       "      <td>0.549615</td>\n",
       "      <td>0.551230</td>\n",
       "      <td>0.809850</td>\n",
       "      <td>0.937590</td>\n",
       "      <td>0.590516</td>\n",
       "    </tr>\n",
       "    <tr>\n",
       "      <th>2</th>\n",
       "      <td>0.320179</td>\n",
       "      <td>0.604773</td>\n",
       "      <td>0.528880</td>\n",
       "      <td>0.532698</td>\n",
       "      <td>0.064267</td>\n",
       "    </tr>\n",
       "    <tr>\n",
       "      <th>3</th>\n",
       "      <td>0.906357</td>\n",
       "      <td>0.073302</td>\n",
       "      <td>0.614587</td>\n",
       "      <td>0.484070</td>\n",
       "      <td>0.360308</td>\n",
       "    </tr>\n",
       "    <tr>\n",
       "      <th>4</th>\n",
       "      <td>0.180382</td>\n",
       "      <td>0.086987</td>\n",
       "      <td>0.208070</td>\n",
       "      <td>0.435624</td>\n",
       "      <td>0.720327</td>\n",
       "    </tr>\n",
       "  </tbody>\n",
       "</table>\n",
       "</div>"
      ],
      "text/plain": [
       "          0         1         2         3         4\n",
       "0  Swarnava  0.288230  0.618810  0.610473  0.630400\n",
       "1  0.549615  0.551230  0.809850  0.937590  0.590516\n",
       "2  0.320179  0.604773  0.528880  0.532698  0.064267\n",
       "3  0.906357  0.073302  0.614587  0.484070  0.360308\n",
       "4  0.180382  0.086987  0.208070  0.435624  0.720327"
      ]
     },
     "execution_count": 35,
     "metadata": {},
     "output_type": "execute_result"
    }
   ],
   "source": [
    "newdf.head()"
   ]
  },
  {
   "cell_type": "code",
   "execution_count": 36,
   "metadata": {},
   "outputs": [
    {
     "data": {
      "text/plain": [
       "Int64Index([  0,   1,   2,   3,   4,   5,   6,   7,   8,   9,\n",
       "            ...\n",
       "            324, 325, 326, 327, 328, 329, 330, 331, 332, 333],\n",
       "           dtype='int64', length=334)"
      ]
     },
     "execution_count": 36,
     "metadata": {},
     "output_type": "execute_result"
    }
   ],
   "source": [
    "newdf.index"
   ]
  },
  {
   "cell_type": "code",
   "execution_count": 38,
   "metadata": {},
   "outputs": [
    {
     "data": {
      "text/plain": [
       "RangeIndex(start=0, stop=5, step=1)"
      ]
     },
     "execution_count": 38,
     "metadata": {},
     "output_type": "execute_result"
    }
   ],
   "source": [
    "newdf.columns"
   ]
  },
  {
   "cell_type": "code",
   "execution_count": 39,
   "metadata": {},
   "outputs": [
    {
     "data": {
      "text/plain": [
       "array([['Swarnava', 0.28822989958330425, 0.6188102653936227,\n",
       "        0.6104727613374119, 0.6303999980663231],\n",
       "       [0.5496154063531772, 0.5512299898057113, 0.8098499441344833,\n",
       "        0.9375904397586772, 0.5905156233986391],\n",
       "       [0.32017879876185673, 0.6047729793990729, 0.5288797895393282,\n",
       "        0.5326979188358709, 0.06426666007001103],\n",
       "       ...,\n",
       "       [0.7183086144117773, 0.9376516968914367, 0.8015968681483994,\n",
       "        0.8097218927596794, 0.408999592399823],\n",
       "       [0.6391527571813088, 0.44751726529187486, 0.5897361516435863,\n",
       "        0.43525820501276147, 0.07479030606814252],\n",
       "       [0.8770344741666176, 0.07906349201909935, 0.38607227716193304,\n",
       "        0.29699626242049215, 0.3737315167964168]], dtype=object)"
      ]
     },
     "execution_count": 39,
     "metadata": {},
     "output_type": "execute_result"
    }
   ],
   "source": [
    "newdf.to_numpy()"
   ]
  },
  {
   "cell_type": "code",
   "execution_count": 41,
   "metadata": {},
   "outputs": [
    {
     "name": "stderr",
     "output_type": "stream",
     "text": [
      "<ipython-input-41-452ed7015823>:1: SettingWithCopyWarning: \n",
      "A value is trying to be set on a copy of a slice from a DataFrame\n",
      "\n",
      "See the caveats in the documentation: https://pandas.pydata.org/pandas-docs/stable/user_guide/indexing.html#returning-a-view-versus-a-copy\n",
      "  newdf[0][0] = 0.3\n"
     ]
    }
   ],
   "source": [
    "newdf[0][0] = 0.3"
   ]
  },
  {
   "cell_type": "code",
   "execution_count": 42,
   "metadata": {},
   "outputs": [
    {
     "data": {
      "text/html": [
       "<div>\n",
       "<style scoped>\n",
       "    .dataframe tbody tr th:only-of-type {\n",
       "        vertical-align: middle;\n",
       "    }\n",
       "\n",
       "    .dataframe tbody tr th {\n",
       "        vertical-align: top;\n",
       "    }\n",
       "\n",
       "    .dataframe thead th {\n",
       "        text-align: right;\n",
       "    }\n",
       "</style>\n",
       "<table border=\"1\" class=\"dataframe\">\n",
       "  <thead>\n",
       "    <tr style=\"text-align: right;\">\n",
       "      <th></th>\n",
       "      <th>0</th>\n",
       "      <th>1</th>\n",
       "      <th>2</th>\n",
       "      <th>3</th>\n",
       "      <th>4</th>\n",
       "    </tr>\n",
       "  </thead>\n",
       "  <tbody>\n",
       "    <tr>\n",
       "      <th>0</th>\n",
       "      <td>0.3</td>\n",
       "      <td>0.288230</td>\n",
       "      <td>0.618810</td>\n",
       "      <td>0.610473</td>\n",
       "      <td>0.630400</td>\n",
       "    </tr>\n",
       "    <tr>\n",
       "      <th>1</th>\n",
       "      <td>0.549615</td>\n",
       "      <td>0.551230</td>\n",
       "      <td>0.809850</td>\n",
       "      <td>0.937590</td>\n",
       "      <td>0.590516</td>\n",
       "    </tr>\n",
       "    <tr>\n",
       "      <th>2</th>\n",
       "      <td>0.320179</td>\n",
       "      <td>0.604773</td>\n",
       "      <td>0.528880</td>\n",
       "      <td>0.532698</td>\n",
       "      <td>0.064267</td>\n",
       "    </tr>\n",
       "    <tr>\n",
       "      <th>3</th>\n",
       "      <td>0.906357</td>\n",
       "      <td>0.073302</td>\n",
       "      <td>0.614587</td>\n",
       "      <td>0.484070</td>\n",
       "      <td>0.360308</td>\n",
       "    </tr>\n",
       "    <tr>\n",
       "      <th>4</th>\n",
       "      <td>0.180382</td>\n",
       "      <td>0.086987</td>\n",
       "      <td>0.208070</td>\n",
       "      <td>0.435624</td>\n",
       "      <td>0.720327</td>\n",
       "    </tr>\n",
       "  </tbody>\n",
       "</table>\n",
       "</div>"
      ],
      "text/plain": [
       "          0         1         2         3         4\n",
       "0       0.3  0.288230  0.618810  0.610473  0.630400\n",
       "1  0.549615  0.551230  0.809850  0.937590  0.590516\n",
       "2  0.320179  0.604773  0.528880  0.532698  0.064267\n",
       "3  0.906357  0.073302  0.614587  0.484070  0.360308\n",
       "4  0.180382  0.086987  0.208070  0.435624  0.720327"
      ]
     },
     "execution_count": 42,
     "metadata": {},
     "output_type": "execute_result"
    }
   ],
   "source": [
    "newdf.head()"
   ]
  },
  {
   "cell_type": "code",
   "execution_count": 43,
   "metadata": {},
   "outputs": [
    {
     "data": {
      "text/plain": [
       "array([[0.3, 0.28822989958330425, 0.6188102653936227, 0.6104727613374119,\n",
       "        0.6303999980663231],\n",
       "       [0.5496154063531772, 0.5512299898057113, 0.8098499441344833,\n",
       "        0.9375904397586772, 0.5905156233986391],\n",
       "       [0.32017879876185673, 0.6047729793990729, 0.5288797895393282,\n",
       "        0.5326979188358709, 0.06426666007001103],\n",
       "       ...,\n",
       "       [0.7183086144117773, 0.9376516968914367, 0.8015968681483994,\n",
       "        0.8097218927596794, 0.408999592399823],\n",
       "       [0.6391527571813088, 0.44751726529187486, 0.5897361516435863,\n",
       "        0.43525820501276147, 0.07479030606814252],\n",
       "       [0.8770344741666176, 0.07906349201909935, 0.38607227716193304,\n",
       "        0.29699626242049215, 0.3737315167964168]], dtype=object)"
      ]
     },
     "execution_count": 43,
     "metadata": {},
     "output_type": "execute_result"
    }
   ],
   "source": [
    "newdf.to_numpy()\n"
   ]
  },
  {
   "cell_type": "code",
   "execution_count": 44,
   "metadata": {},
   "outputs": [
    {
     "data": {
      "text/html": [
       "<div>\n",
       "<style scoped>\n",
       "    .dataframe tbody tr th:only-of-type {\n",
       "        vertical-align: middle;\n",
       "    }\n",
       "\n",
       "    .dataframe tbody tr th {\n",
       "        vertical-align: top;\n",
       "    }\n",
       "\n",
       "    .dataframe thead th {\n",
       "        text-align: right;\n",
       "    }\n",
       "</style>\n",
       "<table border=\"1\" class=\"dataframe\">\n",
       "  <thead>\n",
       "    <tr style=\"text-align: right;\">\n",
       "      <th></th>\n",
       "      <th>0</th>\n",
       "      <th>1</th>\n",
       "      <th>2</th>\n",
       "      <th>3</th>\n",
       "      <th>4</th>\n",
       "      <th>5</th>\n",
       "      <th>6</th>\n",
       "      <th>7</th>\n",
       "      <th>8</th>\n",
       "      <th>9</th>\n",
       "      <th>...</th>\n",
       "      <th>324</th>\n",
       "      <th>325</th>\n",
       "      <th>326</th>\n",
       "      <th>327</th>\n",
       "      <th>328</th>\n",
       "      <th>329</th>\n",
       "      <th>330</th>\n",
       "      <th>331</th>\n",
       "      <th>332</th>\n",
       "      <th>333</th>\n",
       "    </tr>\n",
       "  </thead>\n",
       "  <tbody>\n",
       "    <tr>\n",
       "      <th>0</th>\n",
       "      <td>0.3</td>\n",
       "      <td>0.549615</td>\n",
       "      <td>0.320179</td>\n",
       "      <td>0.906357</td>\n",
       "      <td>0.180382</td>\n",
       "      <td>0.972621</td>\n",
       "      <td>0.608405</td>\n",
       "      <td>0.810998</td>\n",
       "      <td>0.0016829</td>\n",
       "      <td>0.883947</td>\n",
       "      <td>...</td>\n",
       "      <td>0.153607</td>\n",
       "      <td>0.797163</td>\n",
       "      <td>0.788747</td>\n",
       "      <td>0.420391</td>\n",
       "      <td>0.0295279</td>\n",
       "      <td>0.81529</td>\n",
       "      <td>0.927582</td>\n",
       "      <td>0.718309</td>\n",
       "      <td>0.639153</td>\n",
       "      <td>0.877034</td>\n",
       "    </tr>\n",
       "    <tr>\n",
       "      <th>1</th>\n",
       "      <td>0.28823</td>\n",
       "      <td>0.55123</td>\n",
       "      <td>0.604773</td>\n",
       "      <td>0.0733019</td>\n",
       "      <td>0.0869872</td>\n",
       "      <td>0.587705</td>\n",
       "      <td>0.821054</td>\n",
       "      <td>0.805153</td>\n",
       "      <td>0.388759</td>\n",
       "      <td>0.416485</td>\n",
       "      <td>...</td>\n",
       "      <td>0.300913</td>\n",
       "      <td>0.342627</td>\n",
       "      <td>0.105371</td>\n",
       "      <td>0.499993</td>\n",
       "      <td>0.350932</td>\n",
       "      <td>0.292655</td>\n",
       "      <td>0.786547</td>\n",
       "      <td>0.937652</td>\n",
       "      <td>0.447517</td>\n",
       "      <td>0.0790635</td>\n",
       "    </tr>\n",
       "    <tr>\n",
       "      <th>2</th>\n",
       "      <td>0.61881</td>\n",
       "      <td>0.80985</td>\n",
       "      <td>0.52888</td>\n",
       "      <td>0.614587</td>\n",
       "      <td>0.20807</td>\n",
       "      <td>0.361339</td>\n",
       "      <td>0.334246</td>\n",
       "      <td>0.259357</td>\n",
       "      <td>0.973541</td>\n",
       "      <td>0.464051</td>\n",
       "      <td>...</td>\n",
       "      <td>0.377175</td>\n",
       "      <td>0.313384</td>\n",
       "      <td>0.505337</td>\n",
       "      <td>0.0799343</td>\n",
       "      <td>0.213344</td>\n",
       "      <td>0.380535</td>\n",
       "      <td>0.114443</td>\n",
       "      <td>0.801597</td>\n",
       "      <td>0.589736</td>\n",
       "      <td>0.386072</td>\n",
       "    </tr>\n",
       "    <tr>\n",
       "      <th>3</th>\n",
       "      <td>0.610473</td>\n",
       "      <td>0.93759</td>\n",
       "      <td>0.532698</td>\n",
       "      <td>0.48407</td>\n",
       "      <td>0.435624</td>\n",
       "      <td>0.893414</td>\n",
       "      <td>0.734218</td>\n",
       "      <td>0.737618</td>\n",
       "      <td>0.271153</td>\n",
       "      <td>0.0321665</td>\n",
       "      <td>...</td>\n",
       "      <td>0.276188</td>\n",
       "      <td>0.783622</td>\n",
       "      <td>0.386689</td>\n",
       "      <td>0.139916</td>\n",
       "      <td>0.866204</td>\n",
       "      <td>0.276991</td>\n",
       "      <td>0.440093</td>\n",
       "      <td>0.809722</td>\n",
       "      <td>0.435258</td>\n",
       "      <td>0.296996</td>\n",
       "    </tr>\n",
       "    <tr>\n",
       "      <th>4</th>\n",
       "      <td>0.6304</td>\n",
       "      <td>0.590516</td>\n",
       "      <td>0.0642667</td>\n",
       "      <td>0.360308</td>\n",
       "      <td>0.720327</td>\n",
       "      <td>0.492169</td>\n",
       "      <td>0.499978</td>\n",
       "      <td>0.526215</td>\n",
       "      <td>0.264134</td>\n",
       "      <td>0.814969</td>\n",
       "      <td>...</td>\n",
       "      <td>0.302167</td>\n",
       "      <td>0.751971</td>\n",
       "      <td>0.313469</td>\n",
       "      <td>0.678378</td>\n",
       "      <td>0.82171</td>\n",
       "      <td>0.341599</td>\n",
       "      <td>0.398865</td>\n",
       "      <td>0.409</td>\n",
       "      <td>0.0747903</td>\n",
       "      <td>0.373732</td>\n",
       "    </tr>\n",
       "  </tbody>\n",
       "</table>\n",
       "<p>5 rows × 334 columns</p>\n",
       "</div>"
      ],
      "text/plain": [
       "        0         1          2          3          4         5         6    \\\n",
       "0       0.3  0.549615   0.320179   0.906357   0.180382  0.972621  0.608405   \n",
       "1   0.28823   0.55123   0.604773  0.0733019  0.0869872  0.587705  0.821054   \n",
       "2   0.61881   0.80985    0.52888   0.614587    0.20807  0.361339  0.334246   \n",
       "3  0.610473   0.93759   0.532698    0.48407   0.435624  0.893414  0.734218   \n",
       "4    0.6304  0.590516  0.0642667   0.360308   0.720327  0.492169  0.499978   \n",
       "\n",
       "        7          8          9    ...       324       325       326  \\\n",
       "0  0.810998  0.0016829   0.883947  ...  0.153607  0.797163  0.788747   \n",
       "1  0.805153   0.388759   0.416485  ...  0.300913  0.342627  0.105371   \n",
       "2  0.259357   0.973541   0.464051  ...  0.377175  0.313384  0.505337   \n",
       "3  0.737618   0.271153  0.0321665  ...  0.276188  0.783622  0.386689   \n",
       "4  0.526215   0.264134   0.814969  ...  0.302167  0.751971  0.313469   \n",
       "\n",
       "         327        328       329       330       331        332        333  \n",
       "0   0.420391  0.0295279   0.81529  0.927582  0.718309   0.639153   0.877034  \n",
       "1   0.499993   0.350932  0.292655  0.786547  0.937652   0.447517  0.0790635  \n",
       "2  0.0799343   0.213344  0.380535  0.114443  0.801597   0.589736   0.386072  \n",
       "3   0.139916   0.866204  0.276991  0.440093  0.809722   0.435258   0.296996  \n",
       "4   0.678378    0.82171  0.341599  0.398865     0.409  0.0747903   0.373732  \n",
       "\n",
       "[5 rows x 334 columns]"
      ]
     },
     "execution_count": 44,
     "metadata": {},
     "output_type": "execute_result"
    }
   ],
   "source": [
    "newdf.T"
   ]
  },
  {
   "cell_type": "code",
   "execution_count": 45,
   "metadata": {},
   "outputs": [
    {
     "data": {
      "text/html": [
       "<div>\n",
       "<style scoped>\n",
       "    .dataframe tbody tr th:only-of-type {\n",
       "        vertical-align: middle;\n",
       "    }\n",
       "\n",
       "    .dataframe tbody tr th {\n",
       "        vertical-align: top;\n",
       "    }\n",
       "\n",
       "    .dataframe thead th {\n",
       "        text-align: right;\n",
       "    }\n",
       "</style>\n",
       "<table border=\"1\" class=\"dataframe\">\n",
       "  <thead>\n",
       "    <tr style=\"text-align: right;\">\n",
       "      <th></th>\n",
       "      <th>0</th>\n",
       "      <th>1</th>\n",
       "      <th>2</th>\n",
       "      <th>3</th>\n",
       "      <th>4</th>\n",
       "    </tr>\n",
       "  </thead>\n",
       "  <tbody>\n",
       "    <tr>\n",
       "      <th>0</th>\n",
       "      <td>0.3</td>\n",
       "      <td>0.288230</td>\n",
       "      <td>0.618810</td>\n",
       "      <td>0.610473</td>\n",
       "      <td>0.630400</td>\n",
       "    </tr>\n",
       "    <tr>\n",
       "      <th>1</th>\n",
       "      <td>0.549615</td>\n",
       "      <td>0.551230</td>\n",
       "      <td>0.809850</td>\n",
       "      <td>0.937590</td>\n",
       "      <td>0.590516</td>\n",
       "    </tr>\n",
       "    <tr>\n",
       "      <th>2</th>\n",
       "      <td>0.320179</td>\n",
       "      <td>0.604773</td>\n",
       "      <td>0.528880</td>\n",
       "      <td>0.532698</td>\n",
       "      <td>0.064267</td>\n",
       "    </tr>\n",
       "    <tr>\n",
       "      <th>3</th>\n",
       "      <td>0.906357</td>\n",
       "      <td>0.073302</td>\n",
       "      <td>0.614587</td>\n",
       "      <td>0.484070</td>\n",
       "      <td>0.360308</td>\n",
       "    </tr>\n",
       "    <tr>\n",
       "      <th>4</th>\n",
       "      <td>0.180382</td>\n",
       "      <td>0.086987</td>\n",
       "      <td>0.208070</td>\n",
       "      <td>0.435624</td>\n",
       "      <td>0.720327</td>\n",
       "    </tr>\n",
       "    <tr>\n",
       "      <th>...</th>\n",
       "      <td>...</td>\n",
       "      <td>...</td>\n",
       "      <td>...</td>\n",
       "      <td>...</td>\n",
       "      <td>...</td>\n",
       "    </tr>\n",
       "    <tr>\n",
       "      <th>329</th>\n",
       "      <td>0.81529</td>\n",
       "      <td>0.292655</td>\n",
       "      <td>0.380535</td>\n",
       "      <td>0.276991</td>\n",
       "      <td>0.341599</td>\n",
       "    </tr>\n",
       "    <tr>\n",
       "      <th>330</th>\n",
       "      <td>0.927582</td>\n",
       "      <td>0.786547</td>\n",
       "      <td>0.114443</td>\n",
       "      <td>0.440093</td>\n",
       "      <td>0.398865</td>\n",
       "    </tr>\n",
       "    <tr>\n",
       "      <th>331</th>\n",
       "      <td>0.718309</td>\n",
       "      <td>0.937652</td>\n",
       "      <td>0.801597</td>\n",
       "      <td>0.809722</td>\n",
       "      <td>0.409000</td>\n",
       "    </tr>\n",
       "    <tr>\n",
       "      <th>332</th>\n",
       "      <td>0.639153</td>\n",
       "      <td>0.447517</td>\n",
       "      <td>0.589736</td>\n",
       "      <td>0.435258</td>\n",
       "      <td>0.074790</td>\n",
       "    </tr>\n",
       "    <tr>\n",
       "      <th>333</th>\n",
       "      <td>0.877034</td>\n",
       "      <td>0.079063</td>\n",
       "      <td>0.386072</td>\n",
       "      <td>0.296996</td>\n",
       "      <td>0.373732</td>\n",
       "    </tr>\n",
       "  </tbody>\n",
       "</table>\n",
       "<p>334 rows × 5 columns</p>\n",
       "</div>"
      ],
      "text/plain": [
       "            0         1         2         3         4\n",
       "0         0.3  0.288230  0.618810  0.610473  0.630400\n",
       "1    0.549615  0.551230  0.809850  0.937590  0.590516\n",
       "2    0.320179  0.604773  0.528880  0.532698  0.064267\n",
       "3    0.906357  0.073302  0.614587  0.484070  0.360308\n",
       "4    0.180382  0.086987  0.208070  0.435624  0.720327\n",
       "..        ...       ...       ...       ...       ...\n",
       "329   0.81529  0.292655  0.380535  0.276991  0.341599\n",
       "330  0.927582  0.786547  0.114443  0.440093  0.398865\n",
       "331  0.718309  0.937652  0.801597  0.809722  0.409000\n",
       "332  0.639153  0.447517  0.589736  0.435258  0.074790\n",
       "333  0.877034  0.079063  0.386072  0.296996  0.373732\n",
       "\n",
       "[334 rows x 5 columns]"
      ]
     },
     "execution_count": 45,
     "metadata": {},
     "output_type": "execute_result"
    }
   ],
   "source": [
    "newdf"
   ]
  },
  {
   "cell_type": "code",
   "execution_count": 46,
   "metadata": {},
   "outputs": [
    {
     "data": {
      "text/html": [
       "<div>\n",
       "<style scoped>\n",
       "    .dataframe tbody tr th:only-of-type {\n",
       "        vertical-align: middle;\n",
       "    }\n",
       "\n",
       "    .dataframe tbody tr th {\n",
       "        vertical-align: top;\n",
       "    }\n",
       "\n",
       "    .dataframe thead th {\n",
       "        text-align: right;\n",
       "    }\n",
       "</style>\n",
       "<table border=\"1\" class=\"dataframe\">\n",
       "  <thead>\n",
       "    <tr style=\"text-align: right;\">\n",
       "      <th></th>\n",
       "      <th>0</th>\n",
       "      <th>1</th>\n",
       "      <th>2</th>\n",
       "      <th>3</th>\n",
       "      <th>4</th>\n",
       "    </tr>\n",
       "  </thead>\n",
       "  <tbody>\n",
       "    <tr>\n",
       "      <th>0</th>\n",
       "      <td>0.3</td>\n",
       "      <td>0.288230</td>\n",
       "      <td>0.618810</td>\n",
       "      <td>0.610473</td>\n",
       "      <td>0.630400</td>\n",
       "    </tr>\n",
       "    <tr>\n",
       "      <th>1</th>\n",
       "      <td>0.549615</td>\n",
       "      <td>0.551230</td>\n",
       "      <td>0.809850</td>\n",
       "      <td>0.937590</td>\n",
       "      <td>0.590516</td>\n",
       "    </tr>\n",
       "    <tr>\n",
       "      <th>2</th>\n",
       "      <td>0.320179</td>\n",
       "      <td>0.604773</td>\n",
       "      <td>0.528880</td>\n",
       "      <td>0.532698</td>\n",
       "      <td>0.064267</td>\n",
       "    </tr>\n",
       "    <tr>\n",
       "      <th>3</th>\n",
       "      <td>0.906357</td>\n",
       "      <td>0.073302</td>\n",
       "      <td>0.614587</td>\n",
       "      <td>0.484070</td>\n",
       "      <td>0.360308</td>\n",
       "    </tr>\n",
       "    <tr>\n",
       "      <th>4</th>\n",
       "      <td>0.180382</td>\n",
       "      <td>0.086987</td>\n",
       "      <td>0.208070</td>\n",
       "      <td>0.435624</td>\n",
       "      <td>0.720327</td>\n",
       "    </tr>\n",
       "  </tbody>\n",
       "</table>\n",
       "</div>"
      ],
      "text/plain": [
       "          0         1         2         3         4\n",
       "0       0.3  0.288230  0.618810  0.610473  0.630400\n",
       "1  0.549615  0.551230  0.809850  0.937590  0.590516\n",
       "2  0.320179  0.604773  0.528880  0.532698  0.064267\n",
       "3  0.906357  0.073302  0.614587  0.484070  0.360308\n",
       "4  0.180382  0.086987  0.208070  0.435624  0.720327"
      ]
     },
     "execution_count": 46,
     "metadata": {},
     "output_type": "execute_result"
    }
   ],
   "source": [
    "newdf.head()"
   ]
  },
  {
   "cell_type": "code",
   "execution_count": 47,
   "metadata": {},
   "outputs": [
    {
     "data": {
      "text/html": [
       "<div>\n",
       "<style scoped>\n",
       "    .dataframe tbody tr th:only-of-type {\n",
       "        vertical-align: middle;\n",
       "    }\n",
       "\n",
       "    .dataframe tbody tr th {\n",
       "        vertical-align: top;\n",
       "    }\n",
       "\n",
       "    .dataframe thead th {\n",
       "        text-align: right;\n",
       "    }\n",
       "</style>\n",
       "<table border=\"1\" class=\"dataframe\">\n",
       "  <thead>\n",
       "    <tr style=\"text-align: right;\">\n",
       "      <th></th>\n",
       "      <th>4</th>\n",
       "      <th>3</th>\n",
       "      <th>2</th>\n",
       "      <th>1</th>\n",
       "      <th>0</th>\n",
       "    </tr>\n",
       "  </thead>\n",
       "  <tbody>\n",
       "    <tr>\n",
       "      <th>0</th>\n",
       "      <td>0.630400</td>\n",
       "      <td>0.610473</td>\n",
       "      <td>0.618810</td>\n",
       "      <td>0.288230</td>\n",
       "      <td>0.3</td>\n",
       "    </tr>\n",
       "    <tr>\n",
       "      <th>1</th>\n",
       "      <td>0.590516</td>\n",
       "      <td>0.937590</td>\n",
       "      <td>0.809850</td>\n",
       "      <td>0.551230</td>\n",
       "      <td>0.549615</td>\n",
       "    </tr>\n",
       "    <tr>\n",
       "      <th>2</th>\n",
       "      <td>0.064267</td>\n",
       "      <td>0.532698</td>\n",
       "      <td>0.528880</td>\n",
       "      <td>0.604773</td>\n",
       "      <td>0.320179</td>\n",
       "    </tr>\n",
       "    <tr>\n",
       "      <th>3</th>\n",
       "      <td>0.360308</td>\n",
       "      <td>0.484070</td>\n",
       "      <td>0.614587</td>\n",
       "      <td>0.073302</td>\n",
       "      <td>0.906357</td>\n",
       "    </tr>\n",
       "    <tr>\n",
       "      <th>4</th>\n",
       "      <td>0.720327</td>\n",
       "      <td>0.435624</td>\n",
       "      <td>0.208070</td>\n",
       "      <td>0.086987</td>\n",
       "      <td>0.180382</td>\n",
       "    </tr>\n",
       "    <tr>\n",
       "      <th>...</th>\n",
       "      <td>...</td>\n",
       "      <td>...</td>\n",
       "      <td>...</td>\n",
       "      <td>...</td>\n",
       "      <td>...</td>\n",
       "    </tr>\n",
       "    <tr>\n",
       "      <th>329</th>\n",
       "      <td>0.341599</td>\n",
       "      <td>0.276991</td>\n",
       "      <td>0.380535</td>\n",
       "      <td>0.292655</td>\n",
       "      <td>0.81529</td>\n",
       "    </tr>\n",
       "    <tr>\n",
       "      <th>330</th>\n",
       "      <td>0.398865</td>\n",
       "      <td>0.440093</td>\n",
       "      <td>0.114443</td>\n",
       "      <td>0.786547</td>\n",
       "      <td>0.927582</td>\n",
       "    </tr>\n",
       "    <tr>\n",
       "      <th>331</th>\n",
       "      <td>0.409000</td>\n",
       "      <td>0.809722</td>\n",
       "      <td>0.801597</td>\n",
       "      <td>0.937652</td>\n",
       "      <td>0.718309</td>\n",
       "    </tr>\n",
       "    <tr>\n",
       "      <th>332</th>\n",
       "      <td>0.074790</td>\n",
       "      <td>0.435258</td>\n",
       "      <td>0.589736</td>\n",
       "      <td>0.447517</td>\n",
       "      <td>0.639153</td>\n",
       "    </tr>\n",
       "    <tr>\n",
       "      <th>333</th>\n",
       "      <td>0.373732</td>\n",
       "      <td>0.296996</td>\n",
       "      <td>0.386072</td>\n",
       "      <td>0.079063</td>\n",
       "      <td>0.877034</td>\n",
       "    </tr>\n",
       "  </tbody>\n",
       "</table>\n",
       "<p>334 rows × 5 columns</p>\n",
       "</div>"
      ],
      "text/plain": [
       "            4         3         2         1         0\n",
       "0    0.630400  0.610473  0.618810  0.288230       0.3\n",
       "1    0.590516  0.937590  0.809850  0.551230  0.549615\n",
       "2    0.064267  0.532698  0.528880  0.604773  0.320179\n",
       "3    0.360308  0.484070  0.614587  0.073302  0.906357\n",
       "4    0.720327  0.435624  0.208070  0.086987  0.180382\n",
       "..        ...       ...       ...       ...       ...\n",
       "329  0.341599  0.276991  0.380535  0.292655   0.81529\n",
       "330  0.398865  0.440093  0.114443  0.786547  0.927582\n",
       "331  0.409000  0.809722  0.801597  0.937652  0.718309\n",
       "332  0.074790  0.435258  0.589736  0.447517  0.639153\n",
       "333  0.373732  0.296996  0.386072  0.079063  0.877034\n",
       "\n",
       "[334 rows x 5 columns]"
      ]
     },
     "execution_count": 47,
     "metadata": {},
     "output_type": "execute_result"
    }
   ],
   "source": [
    "newdf.sort_index(axis=1, ascending=False)"
   ]
  },
  {
   "cell_type": "code",
   "execution_count": null,
   "metadata": {},
   "outputs": [],
   "source": []
  }
 ],
 "metadata": {
  "kernelspec": {
   "display_name": "Python 3",
   "language": "python",
   "name": "python3"
  },
  "language_info": {
   "codemirror_mode": {
    "name": "ipython",
    "version": 3
   },
   "file_extension": ".py",
   "mimetype": "text/x-python",
   "name": "python",
   "nbconvert_exporter": "python",
   "pygments_lexer": "ipython3",
   "version": "3.8.5"
  }
 },
 "nbformat": 4,
 "nbformat_minor": 4
}
